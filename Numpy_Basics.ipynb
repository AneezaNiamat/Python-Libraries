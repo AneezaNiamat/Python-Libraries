{
  "nbformat": 4,
  "nbformat_minor": 0,
  "metadata": {
    "colab": {
      "name": "Numpy Basics.ipynb",
      "provenance": [],
      "collapsed_sections": []
    },
    "kernelspec": {
      "name": "python3",
      "display_name": "Python 3"
    }
  },
  "cells": [
    {
      "cell_type": "markdown",
      "metadata": {
        "id": "Sd0m7tb_C0hu"
      },
      "source": [
        "NumPy is a general-purpose array-processing package. It provides a high-performance multidimensional array object, and tools for working with these arrays. It is the fundamental package for scientific computing with Python."
      ]
    },
    {
      "cell_type": "markdown",
      "metadata": {
        "id": "PD0A3V0ue1hw"
      },
      "source": [
        "**Difference b/w array & list**\r\n",
        "\r\n",
        "*   **Array:**\r\n",
        "      Arrays in python can only contain values corresponding to same data type\r\n",
        "*   **Lists:**\r\n",
        "      Lists in python can contain values corresponding to different data types\r\n",
        "\r\n"
      ]
    },
    {
      "cell_type": "code",
      "metadata": {
        "id": "5Va3uBcYCoIk"
      },
      "source": [
        "#First import numpy library\r\n",
        "import numpy as np"
      ],
      "execution_count": 188,
      "outputs": []
    },
    {
      "cell_type": "code",
      "metadata": {
        "colab": {
          "base_uri": "https://localhost:8080/"
        },
        "id": "rdhoZ2w2DDEg",
        "outputId": "32fb9772-10d9-49a3-d408-83a5eda71f32"
      },
      "source": [
        "num=[1,2,3,4,5]\r\n",
        "arr=np.array(num)\r\n",
        "print(arr)\r\n",
        "type(arr)"
      ],
      "execution_count": 189,
      "outputs": [
        {
          "output_type": "stream",
          "text": [
            "[1 2 3 4 5]\n"
          ],
          "name": "stdout"
        },
        {
          "output_type": "execute_result",
          "data": {
            "text/plain": [
              "numpy.ndarray"
            ]
          },
          "metadata": {
            "tags": []
          },
          "execution_count": 189
        }
      ]
    },
    {
      "cell_type": "code",
      "metadata": {
        "colab": {
          "base_uri": "https://localhost:8080/"
        },
        "id": "akwR28lqDjeg",
        "outputId": "6f8931f7-33e9-4138-ecd3-90ed89910b9a"
      },
      "source": [
        "#Multidimensional Array\r\n",
        "num1=[1,2,3,4,5]\r\n",
        "num2=[2,4,6,8,10]\r\n",
        "num3=[1,3,5,7,9]\r\n",
        "Marr=np.array([num1,num2,num3])\r\n",
        "print(Marr)"
      ],
      "execution_count": 190,
      "outputs": [
        {
          "output_type": "stream",
          "text": [
            "[[ 1  2  3  4  5]\n",
            " [ 2  4  6  8 10]\n",
            " [ 1  3  5  7  9]]\n"
          ],
          "name": "stdout"
        }
      ]
    },
    {
      "cell_type": "code",
      "metadata": {
        "colab": {
          "base_uri": "https://localhost:8080/"
        },
        "id": "fKuN0x97EEj_",
        "outputId": "d838c8d8-8fd1-4011-b351-b067159fc096"
      },
      "source": [
        "#check the shape of the array\r\n",
        "Marr.shape"
      ],
      "execution_count": 191,
      "outputs": [
        {
          "output_type": "execute_result",
          "data": {
            "text/plain": [
              "(3, 5)"
            ]
          },
          "metadata": {
            "tags": []
          },
          "execution_count": 191
        }
      ]
    },
    {
      "cell_type": "markdown",
      "metadata": {
        "id": "pk3RA-1oTHeV"
      },
      "source": [
        "Most of the Exploratory Data Analysis will be working in 2-dimensional array. Where suppoing will be having a lot of features and lot of rules that can be easily converted. Finally into an array and then apply to a machine. THe reason of using array is that arrays operations are very very fast. So, whenever convert whole dataset into an array after doing all the feature engineering, feature selection and any process what actually will happen that take the data  and apply machine learning algorithm such that training usually takes up quickly because of that extensively using arrays."
      ]
    },
    {
      "cell_type": "code",
      "metadata": {
        "colab": {
          "base_uri": "https://localhost:8080/"
        },
        "id": "GYeQNbIMVGyE",
        "outputId": "0c225ba4-5f7e-4807-a889-a42416804c23"
      },
      "source": [
        "Marr.reshape(5,3)"
      ],
      "execution_count": 192,
      "outputs": [
        {
          "output_type": "execute_result",
          "data": {
            "text/plain": [
              "array([[ 1,  2,  3],\n",
              "       [ 4,  5,  2],\n",
              "       [ 4,  6,  8],\n",
              "       [10,  1,  3],\n",
              "       [ 5,  7,  9]])"
            ]
          },
          "metadata": {
            "tags": []
          },
          "execution_count": 192
        }
      ]
    },
    {
      "cell_type": "code",
      "metadata": {
        "colab": {
          "base_uri": "https://localhost:8080/"
        },
        "id": "SP51CUmCVU5j",
        "outputId": "f6f1de47-f307-457c-92c7-4c2f5f6a7234"
      },
      "source": [
        "Marr.reshape(1,15)"
      ],
      "execution_count": 193,
      "outputs": [
        {
          "output_type": "execute_result",
          "data": {
            "text/plain": [
              "array([[ 1,  2,  3,  4,  5,  2,  4,  6,  8, 10,  1,  3,  5,  7,  9]])"
            ]
          },
          "metadata": {
            "tags": []
          },
          "execution_count": 193
        }
      ]
    },
    {
      "cell_type": "markdown",
      "metadata": {
        "id": "ZlZyPOvjEnsi"
      },
      "source": [
        "**Indexing**"
      ]
    },
    {
      "cell_type": "code",
      "metadata": {
        "colab": {
          "base_uri": "https://localhost:8080/"
        },
        "id": "p6dvX41-EhGC",
        "outputId": "dd40d49e-903d-499b-fea4-70fa9fd915b6"
      },
      "source": [
        "#Accessing the array elements\r\n",
        "Marr"
      ],
      "execution_count": 194,
      "outputs": [
        {
          "output_type": "execute_result",
          "data": {
            "text/plain": [
              "array([[ 1,  2,  3,  4,  5],\n",
              "       [ 2,  4,  6,  8, 10],\n",
              "       [ 1,  3,  5,  7,  9]])"
            ]
          },
          "metadata": {
            "tags": []
          },
          "execution_count": 194
        }
      ]
    },
    {
      "cell_type": "code",
      "metadata": {
        "colab": {
          "base_uri": "https://localhost:8080/"
        },
        "id": "d8hQJ0zaFikm",
        "outputId": "d350269c-5307-486e-bded-4455da23ed1e"
      },
      "source": [
        "Marr[2]"
      ],
      "execution_count": 195,
      "outputs": [
        {
          "output_type": "execute_result",
          "data": {
            "text/plain": [
              "array([1, 3, 5, 7, 9])"
            ]
          },
          "metadata": {
            "tags": []
          },
          "execution_count": 195
        }
      ]
    },
    {
      "cell_type": "code",
      "metadata": {
        "colab": {
          "base_uri": "https://localhost:8080/"
        },
        "id": "HFgPAFBWFsLa",
        "outputId": "cc52d7db-2c90-446d-9774-ed52c3ca01c2"
      },
      "source": [
        "#slicing\r\n",
        "Marr[1:,3:]      #######[rows,columns]"
      ],
      "execution_count": 196,
      "outputs": [
        {
          "output_type": "execute_result",
          "data": {
            "text/plain": [
              "array([[ 8, 10],\n",
              "       [ 7,  9]])"
            ]
          },
          "metadata": {
            "tags": []
          },
          "execution_count": 196
        }
      ]
    },
    {
      "cell_type": "code",
      "metadata": {
        "colab": {
          "base_uri": "https://localhost:8080/"
        },
        "id": "CHPjgDbxGEga",
        "outputId": "33b726ed-7f5c-40af-e33d-45cc39d43047"
      },
      "source": [
        "Marr[1:,2:4]"
      ],
      "execution_count": 197,
      "outputs": [
        {
          "output_type": "execute_result",
          "data": {
            "text/plain": [
              "array([[6, 8],\n",
              "       [5, 7]])"
            ]
          },
          "metadata": {
            "tags": []
          },
          "execution_count": 197
        }
      ]
    },
    {
      "cell_type": "code",
      "metadata": {
        "colab": {
          "base_uri": "https://localhost:8080/"
        },
        "id": "rxGS53djW7ms",
        "outputId": "245bbda7-d6d6-41ae-c210-4d7e010d4ed1"
      },
      "source": [
        "Marr[1:2,1:4]"
      ],
      "execution_count": 198,
      "outputs": [
        {
          "output_type": "execute_result",
          "data": {
            "text/plain": [
              "array([[4, 6, 8]])"
            ]
          },
          "metadata": {
            "tags": []
          },
          "execution_count": 198
        }
      ]
    },
    {
      "cell_type": "code",
      "metadata": {
        "colab": {
          "base_uri": "https://localhost:8080/"
        },
        "id": "iTcm3TP0Go55",
        "outputId": "a4e1d4cb-7579-4ae6-c760-3e6f99f11b3d"
      },
      "source": [
        "arr"
      ],
      "execution_count": 199,
      "outputs": [
        {
          "output_type": "execute_result",
          "data": {
            "text/plain": [
              "array([1, 2, 3, 4, 5])"
            ]
          },
          "metadata": {
            "tags": []
          },
          "execution_count": 199
        }
      ]
    },
    {
      "cell_type": "code",
      "metadata": {
        "colab": {
          "base_uri": "https://localhost:8080/"
        },
        "id": "CSUSqbfGGy7I",
        "outputId": "532a5b28-1c67-47e1-fbc0-2b95462ffd22"
      },
      "source": [
        "#Copy function and broadcasting\r\n",
        "arr[2:]=100\r\n",
        "arr"
      ],
      "execution_count": 212,
      "outputs": [
        {
          "output_type": "execute_result",
          "data": {
            "text/plain": [
              "array([  1,   2, 100, 100, 100])"
            ]
          },
          "metadata": {
            "tags": []
          },
          "execution_count": 212
        }
      ]
    },
    {
      "cell_type": "markdown",
      "metadata": {
        "id": "q2OItlbyZw1T"
      },
      "source": [
        "Array is actually the reference type.\r\n",
        "\r\n",
        "**Reference Type**\r\n",
        "In case of reference type actually sharing the same memory. What'll happen is that any operation do it one variable, that also has the impact the meamory of the other variable. So, in order to prevent that use the function copy.\r\n",
        "\r\n",
        "**Value Type**\r\n",
        "A value type can be an integer type i.e. list of integers "
      ]
    },
    {
      "cell_type": "code",
      "metadata": {
        "colab": {
          "base_uri": "https://localhost:8080/"
        },
        "id": "Ln18nOGBbF00",
        "outputId": "2b61f211-0d62-414d-f152-ea3023be41aa"
      },
      "source": [
        "aarr1=arr.copy()\r\n",
        "print(aarr1)\r\n",
        "aarr1[3:]=300\r\n",
        "print(aarr1)"
      ],
      "execution_count": 218,
      "outputs": [
        {
          "output_type": "stream",
          "text": [
            "[  1   2 100 100 100]\n",
            "[  1   2 100 300 300]\n"
          ],
          "name": "stdout"
        }
      ]
    },
    {
      "cell_type": "code",
      "metadata": {
        "colab": {
          "base_uri": "https://localhost:8080/"
        },
        "id": "4EgsLxQGG8dg",
        "outputId": "d05a5724-40d3-4138-df50-e091f225cc03"
      },
      "source": [
        "#Apply some conditions in Data Exploratory\r\n",
        "val=2\r\n",
        "print(arr>1)\r\n",
        "arr[arr<2]"
      ],
      "execution_count": 222,
      "outputs": [
        {
          "output_type": "stream",
          "text": [
            "[False  True  True  True  True]\n"
          ],
          "name": "stdout"
        },
        {
          "output_type": "execute_result",
          "data": {
            "text/plain": [
              "array([1])"
            ]
          },
          "metadata": {
            "tags": []
          },
          "execution_count": 222
        }
      ]
    },
    {
      "cell_type": "code",
      "metadata": {
        "colab": {
          "base_uri": "https://localhost:8080/"
        },
        "id": "zQM-dtXrIQzN",
        "outputId": "8a5cb0b2-5f74-43de-8c83-6065770c3fb6"
      },
      "source": [
        "np.arange(0,10).reshape(5,2) #arrange used to quickly create some arrays"
      ],
      "execution_count": 203,
      "outputs": [
        {
          "output_type": "execute_result",
          "data": {
            "text/plain": [
              "array([[0, 1],\n",
              "       [2, 3],\n",
              "       [4, 5],\n",
              "       [6, 7],\n",
              "       [8, 9]])"
            ]
          },
          "metadata": {
            "tags": []
          },
          "execution_count": 203
        }
      ]
    },
    {
      "cell_type": "code",
      "metadata": {
        "colab": {
          "base_uri": "https://localhost:8080/"
        },
        "id": "rgDEkbfLYKHW",
        "outputId": "86261c4f-9658-4f84-c759-0ef8f6aafb6c"
      },
      "source": [
        "np.linspace(1,10,50)    "
      ],
      "execution_count": 204,
      "outputs": [
        {
          "output_type": "execute_result",
          "data": {
            "text/plain": [
              "array([ 1.        ,  1.18367347,  1.36734694,  1.55102041,  1.73469388,\n",
              "        1.91836735,  2.10204082,  2.28571429,  2.46938776,  2.65306122,\n",
              "        2.83673469,  3.02040816,  3.20408163,  3.3877551 ,  3.57142857,\n",
              "        3.75510204,  3.93877551,  4.12244898,  4.30612245,  4.48979592,\n",
              "        4.67346939,  4.85714286,  5.04081633,  5.2244898 ,  5.40816327,\n",
              "        5.59183673,  5.7755102 ,  5.95918367,  6.14285714,  6.32653061,\n",
              "        6.51020408,  6.69387755,  6.87755102,  7.06122449,  7.24489796,\n",
              "        7.42857143,  7.6122449 ,  7.79591837,  7.97959184,  8.16326531,\n",
              "        8.34693878,  8.53061224,  8.71428571,  8.89795918,  9.08163265,\n",
              "        9.26530612,  9.44897959,  9.63265306,  9.81632653, 10.        ])"
            ]
          },
          "metadata": {
            "tags": []
          },
          "execution_count": 204
        }
      ]
    },
    {
      "cell_type": "markdown",
      "metadata": {
        "id": "XUmWVWp-YkVj"
      },
      "source": [
        "In Deep Learning, we need to select some of the points quickly & needs to initialize some points quickly. So, that it can be really helpful. At that time, basically can use arrays"
      ]
    },
    {
      "cell_type": "code",
      "metadata": {
        "colab": {
          "base_uri": "https://localhost:8080/"
        },
        "id": "IZ8ce7nsIxYO",
        "outputId": "3317556c-a7e5-4bf7-f372-9edd70da7d51"
      },
      "source": [
        "arr1=np.arange(0,10).reshape(2,5)\r\n",
        "arr2=np.arange(0,10).reshape(2,5)\r\n",
        "arr1\r\n",
        "arr2"
      ],
      "execution_count": 205,
      "outputs": [
        {
          "output_type": "execute_result",
          "data": {
            "text/plain": [
              "array([[0, 1, 2, 3, 4],\n",
              "       [5, 6, 7, 8, 9]])"
            ]
          },
          "metadata": {
            "tags": []
          },
          "execution_count": 205
        }
      ]
    },
    {
      "cell_type": "code",
      "metadata": {
        "colab": {
          "base_uri": "https://localhost:8080/"
        },
        "id": "ylwDu2BhJW7C",
        "outputId": "d70a3c7b-01b3-42ca-b010-d129de8963e6"
      },
      "source": [
        "arr1*arr2"
      ],
      "execution_count": 206,
      "outputs": [
        {
          "output_type": "execute_result",
          "data": {
            "text/plain": [
              "array([[ 0,  1,  4,  9, 16],\n",
              "       [25, 36, 49, 64, 81]])"
            ]
          },
          "metadata": {
            "tags": []
          },
          "execution_count": 206
        }
      ]
    },
    {
      "cell_type": "code",
      "metadata": {
        "colab": {
          "base_uri": "https://localhost:8080/"
        },
        "id": "HRcmhNUbc-ge",
        "outputId": "1fe01d94-aaea-4952-8699-6bf808fe2e54"
      },
      "source": [
        "np.ones(4)"
      ],
      "execution_count": 225,
      "outputs": [
        {
          "output_type": "execute_result",
          "data": {
            "text/plain": [
              "array([1., 1., 1., 1.])"
            ]
          },
          "metadata": {
            "tags": []
          },
          "execution_count": 225
        }
      ]
    },
    {
      "cell_type": "code",
      "metadata": {
        "colab": {
          "base_uri": "https://localhost:8080/"
        },
        "id": "VAPVD6GFJys5",
        "outputId": "b9708f1e-f4b3-4e69-cca2-e51b95524657"
      },
      "source": [
        "np.ones((5,2),dtype=int)"
      ],
      "execution_count": 228,
      "outputs": [
        {
          "output_type": "execute_result",
          "data": {
            "text/plain": [
              "array([[1, 1],\n",
              "       [1, 1],\n",
              "       [1, 1],\n",
              "       [1, 1],\n",
              "       [1, 1]])"
            ]
          },
          "metadata": {
            "tags": []
          },
          "execution_count": 228
        }
      ]
    },
    {
      "cell_type": "code",
      "metadata": {
        "colab": {
          "base_uri": "https://localhost:8080/"
        },
        "id": "OIkJAcm6KCbE",
        "outputId": "63a0d34e-2939-48ad-d301-e15bcd48c267"
      },
      "source": [
        "#random distribution\r\n",
        "np.random.rand(2,3)"
      ],
      "execution_count": 229,
      "outputs": [
        {
          "output_type": "execute_result",
          "data": {
            "text/plain": [
              "array([[0.40345458, 0.38134574, 0.60636832],\n",
              "       [0.70257658, 0.33656404, 0.47214303]])"
            ]
          },
          "metadata": {
            "tags": []
          },
          "execution_count": 229
        }
      ]
    },
    {
      "cell_type": "code",
      "metadata": {
        "colab": {
          "base_uri": "https://localhost:8080/"
        },
        "id": "OJlBT9ylKlRT",
        "outputId": "c0b794e4-372d-40a6-d0d0-0bbe89f632cf"
      },
      "source": [
        "arr_Ran=np.random.rand(4,5)\r\n",
        "arr_Ran"
      ],
      "execution_count": 209,
      "outputs": [
        {
          "output_type": "execute_result",
          "data": {
            "text/plain": [
              "array([[0.026332  , 0.76445984, 0.98087066, 0.61531022, 0.13564562],\n",
              "       [0.93675233, 0.77433827, 0.1669579 , 0.67293098, 0.60916433],\n",
              "       [0.9599026 , 0.98775458, 0.23565518, 0.11238139, 0.5965065 ],\n",
              "       [0.63597724, 0.32051767, 0.87118216, 0.22477268, 0.3507338 ]])"
            ]
          },
          "metadata": {
            "tags": []
          },
          "execution_count": 209
        }
      ]
    },
    {
      "cell_type": "code",
      "metadata": {
        "colab": {
          "base_uri": "https://localhost:8080/"
        },
        "id": "FqnU8Mr7K2YA",
        "outputId": "2cdd3a05-9e97-4b13-8dba-cf76e6160e06"
      },
      "source": [
        "np.random.randint(0,100,8).reshape(4,2)"
      ],
      "execution_count": 230,
      "outputs": [
        {
          "output_type": "execute_result",
          "data": {
            "text/plain": [
              "array([[ 7, 72],\n",
              "       [85, 38],\n",
              "       [71, 61],\n",
              "       [92,  9]])"
            ]
          },
          "metadata": {
            "tags": []
          },
          "execution_count": 230
        }
      ]
    },
    {
      "cell_type": "code",
      "metadata": {
        "colab": {
          "base_uri": "https://localhost:8080/"
        },
        "id": "4XRA4EzXLZZd",
        "outputId": "b2543e15-f8bd-4212-c7e6-f2f74d8313ff"
      },
      "source": [
        "np.random.random_sample((1,5))"
      ],
      "execution_count": 211,
      "outputs": [
        {
          "output_type": "execute_result",
          "data": {
            "text/plain": [
              "array([[0.88625058, 0.77559263, 0.05518117, 0.68713449, 0.74716033]])"
            ]
          },
          "metadata": {
            "tags": []
          },
          "execution_count": 211
        }
      ]
    },
    {
      "cell_type": "code",
      "metadata": {
        "id": "gY_kLbNeLq35"
      },
      "source": [
        ""
      ],
      "execution_count": 211,
      "outputs": []
    }
  ]
}